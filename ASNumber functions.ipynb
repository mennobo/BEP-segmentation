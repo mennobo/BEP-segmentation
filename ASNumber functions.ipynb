{
 "cells": [
  {
   "cell_type": "code",
   "execution_count": null,
   "metadata": {},
   "outputs": [],
   "source": [
    "import sys \n",
    "sys.path.append('/Library/Frameworks/Python.framework/Versions/3.7/lib/python3.7/site-packages')\n",
    "import dateutil.parser as dp\n",
    "import datetime\n",
    "import pyasn\n",
    "import re\n",
    "import os\n",
    "import ipaddress"
   ]
  },
  {
   "cell_type": "markdown",
   "metadata": {},
   "source": [
    "Global variables"
   ]
  },
  {
   "cell_type": "code",
   "execution_count": 2,
   "metadata": {},
   "outputs": [],
   "source": [
    "_ASN_FILES = './db.rviews/'\n",
    "ASN_DB_CACHE = {}"
   ]
  },
  {
   "cell_type": "markdown",
   "metadata": {},
   "source": [
    "Method for finding closes matching database file"
   ]
  },
  {
   "cell_type": "code",
   "execution_count": 3,
   "metadata": {},
   "outputs": [],
   "source": [
    "\n",
    "def closest_matching_asndb(date):\n",
    "    \"\"\" Returns Closest Matching ASNDB for a specific day looking forward in time\"\"\"\n",
    "    #construct the path you want to check for\n",
    "    s = os.path.join(_ASN_FILES, 'ipasn_%4d%02d%02d.dat' % (date.year, date.month, date.day))\n",
    "    if os.path.isfile(s):\n",
    "        return s\n",
    "    else:\n",
    "        # check if the desired path is either forwards in time or backwards in time and return if found\n",
    "\n",
    "        # look forwards in time to match\n",
    "        d = date + datetime.timedelta(days=1)\n",
    "        while d <= datetime.date.today():\n",
    "            s = os.path.join(_ASN_FILES, 'ipasn_%4d%02d%02d.dat' % (d.year, d.month, d.day))\n",
    "            if os.path.isfile(s):\n",
    "                return s\n",
    "            d += datetime.timedelta(days=1)\n",
    "        \n",
    "        # Didn't find any up to date file that is newer\n",
    "        # Lets work with what we have and use the latest old file\n",
    "        # by looking backwards in time to match\n",
    "\n",
    "        d = date - datetime.timedelta(days=1)\n",
    "        while d >= dp.parse(\"2013-01-01\").date():\n",
    "            s = os.path.join(_ASN_FILES, 'ipasn_%4d%02d%02d.dat' % (d.year, d.month, d.day))\n",
    "            if os.path.isfile(s):\n",
    "                return s\n",
    "            d -= datetime.timedelta(days=1)\n",
    "\n",
    "    return None"
   ]
  },
  {
   "cell_type": "markdown",
   "metadata": {},
   "source": [
    "Method for finding an organisation"
   ]
  },
  {
   "cell_type": "code",
   "execution_count": 4,
   "metadata": {},
   "outputs": [],
   "source": [
    "def lookup_asn_prefix(asndb, ip):\n",
    "    ip_str = str(ip)\n",
    "    asn = asndb.lookup(ip_str)\n",
    "    if asn is None:\n",
    "        asn = \"None\"\n",
    "    return asn"
   ]
  },
  {
   "cell_type": "markdown",
   "metadata": {},
   "source": [
    "Method for looking up an ip"
   ]
  },
  {
   "cell_type": "code",
   "execution_count": 9,
   "metadata": {},
   "outputs": [],
   "source": [
    "def lookup_ip(date, ip):\n",
    "    #print(('lookup_ip {0} and {1}').format(date, ip))\n",
    "    asn = None\n",
    "    \n",
    "    #date you want to find, parsed to a date format\n",
    "    probe_date = dp.parse(date).date()\n",
    "\n",
    "    #Check if the probe_date is not already in the cache\n",
    "    if probe_date not in ASN_DB_CACHE:\n",
    "        #If it is not in the cache\n",
    "        matching_asn = closest_matching_asndb(probe_date)\n",
    "        ASN_DB_CACHE[probe_date] = pyasn.pyasn(matching_asn)\n",
    "    try:\n",
    "        asn = lookup_asn(ASN_DB_CACHE[probe_date], ip)\n",
    "    except:\n",
    "        pass\n",
    "    return asn"
   ]
  },
  {
   "cell_type": "code",
   "execution_count": 10,
   "metadata": {},
   "outputs": [],
   "source": [
    "def lookup_as_ip_ranges(date, lower, upper):\n",
    "    ipIndex = ipaddress.ip_address(lower)\n",
    "    ipUpperBound = ipaddress.ip_address(upper)\n",
    "    resevedCounter = 0\n",
    "    orgDict = {}\n",
    "    \n",
    "    while ipIndex < ipUpperBound:\n",
    "        #if the ip is in a reserved network, change it to last reserved element  + 1\n",
    "        reservedLower = resNetObj[resevedCounter]\n",
    "        if ipIndex == reservedLower[0]:\n",
    "            ipIndex = reservedLower[-1] + 1\n",
    "            resevedCounter += 1\n",
    "        else:\n",
    "            org = lookup_ip(date, ipIndex)\n",
    "            if org is not 'None':\n",
    "                orgName = org[0]\n",
    "                orgRange = org[1]\n",
    "                if orgName in orgDict:\n",
    "                    orgDict[orgName].append(org[1])\n",
    "                else:\n",
    "                    orgDict[orgName] = [org[1]]\n",
    "                ipIndex = ipaddress.ip_address(orgRange[1]) + 1  \n",
    "            else:\n",
    "                ipIndex += 1\n",
    "    print('organizations found on selected date:')\n",
    "    for k in orgDict:\n",
    "        print(k)\n",
    "#         print(('Organization: {0}').format(k))\n",
    "#         for v in orgDict[k]:\n",
    "#             print(v)"
   ]
  },
  {
   "cell_type": "markdown",
   "metadata": {},
   "source": [
    "Running functions"
   ]
  },
  {
   "cell_type": "code",
   "execution_count": 8,
   "metadata": {
    "scrolled": false
   },
   "outputs": [
    {
     "data": {
      "text/plain": [
       "(15169, '8.8.8.0/24')"
      ]
     },
     "execution_count": 8,
     "metadata": {},
     "output_type": "execute_result"
    }
   ],
   "source": [
    "lookup_as_ip_ranges(\"2018-03-05\", '8.8.8.8')"
   ]
  }
 ],
 "metadata": {
  "kernelspec": {
   "display_name": "Python 3",
   "language": "python",
   "name": "python3"
  },
  "language_info": {
   "codemirror_mode": {
    "name": "ipython",
    "version": 3
   },
   "file_extension": ".py",
   "mimetype": "text/x-python",
   "name": "python",
   "nbconvert_exporter": "python",
   "pygments_lexer": "ipython3",
   "version": "3.7.0"
  }
 },
 "nbformat": 4,
 "nbformat_minor": 2
}
